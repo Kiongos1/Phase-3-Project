{
 "cells": [
  {
   "cell_type": "markdown",
   "id": "957d3c93",
   "metadata": {},
   "source": [
    "### Building Predictive Models on Tanzania Water Project using Machine Learning Techniques"
   ]
  },
  {
   "cell_type": "markdown",
   "id": "9f333896",
   "metadata": {},
   "source": [
    "## Project Overview "
   ]
  },
  {
   "cell_type": "markdown",
   "id": "1abe6a8a",
   "metadata": {},
   "source": [
    "#### Student Name: Erick MabenOkacha \n",
    "#### Technical Mentor: Maryann Mwikali\n",
    "#### Cohort: DS PT 11"
   ]
  },
  {
   "cell_type": "markdown",
   "id": "62679e99",
   "metadata": {},
   "source": [
    "The Government of Tanzania through the Ministry of Water and Sanitation is running water projects in the country. Lack of water is a persistent problem in urban and rural areas. The Minisrty has secured financing to construct water pumps in various constiuencies across the country. \n",
    "In this project ,we are going to examine,analyze data,create predictive models,present findings and propose recommendations on three aspects of water pumps: \n",
    "1. Functional Waterpoints-the water point is operational and there are no repairs needed\n",
    "2. Water point is functional but needs repair\n",
    "3. Non Functional waterpoint\n",
    "\n",
    "The Project Presentation will assist the Ministry and agencies responsible to make data driven decisions."
   ]
  },
  {
   "cell_type": "markdown",
   "id": "e37b80c3",
   "metadata": {},
   "source": [
    "## Business Understanding"
   ]
  },
  {
   "cell_type": "markdown",
   "id": "f9f4febe",
   "metadata": {},
   "source": [
    "We aim to Predict which water pumps are faulty to promote access to clean,potable water across Tanzania.\n",
    "We shall create models that:\n",
    "1. Predict Functional Water points\n",
    "2. Predict Functional water points but need repair\n",
    "3. Predict Non Functional Waterpoints"
   ]
  },
  {
   "cell_type": "markdown",
   "id": "1238a72c",
   "metadata": {},
   "source": [
    "## Data Understanding"
   ]
  },
  {
   "cell_type": "markdown",
   "id": "1ee61147",
   "metadata": {},
   "source": [
    "In this Project we going to use data from Taarifa,an open source plartform which agregates data from the Tanzania Ministry of Water. The dataset is in .csv format and has three attributes\n",
    "1. Test Set Values-Independent variables that need predictions\n",
    "2. Training set labels- Dependent variable for each of the rows in Training set values\n",
    "3. Training set values- Independent variables for the training set"
   ]
  },
  {
   "cell_type": "markdown",
   "id": "dd6cd7f7",
   "metadata": {},
   "source": [
    "## Data Preparation"
   ]
  },
  {
   "cell_type": "code",
   "execution_count": 2,
   "id": "d7183a94",
   "metadata": {},
   "outputs": [
    {
     "name": "stdout",
     "output_type": "stream",
     "text": [
      "Requirement already satisfied: imbalanced-learn in c:\\users\\administrator\\anaconda3\\envs\\learn-env\\lib\\site-packages (0.12.4)Note: you may need to restart the kernel to use updated packages.\n",
      "\n",
      "Requirement already satisfied: numpy>=1.17.3 in c:\\users\\administrator\\anaconda3\\envs\\learn-env\\lib\\site-packages (from imbalanced-learn) (1.24.4)\n",
      "Requirement already satisfied: scipy>=1.5.0 in c:\\users\\administrator\\anaconda3\\envs\\learn-env\\lib\\site-packages (from imbalanced-learn) (1.10.1)\n",
      "Requirement already satisfied: scikit-learn>=1.0.2 in c:\\users\\administrator\\anaconda3\\envs\\learn-env\\lib\\site-packages (from imbalanced-learn) (1.3.2)\n",
      "Requirement already satisfied: joblib>=1.1.1 in c:\\users\\administrator\\anaconda3\\envs\\learn-env\\lib\\site-packages (from imbalanced-learn) (1.4.2)\n",
      "Requirement already satisfied: threadpoolctl>=2.0.0 in c:\\users\\administrator\\anaconda3\\envs\\learn-env\\lib\\site-packages (from imbalanced-learn) (3.5.0)\n"
     ]
    }
   ],
   "source": [
    "%pip install imbalanced-learn\n",
    "\n",
    "#import libraries\n",
    "import pandas as pd\n",
    "import numpy as np \n",
    "import matplotlib.pyplot as plt\n",
    "import seaborn as sns\n",
    "\n",
    "from sklearn.model_selection import train_test_split\n",
    "from sklearn.preprocessing import StandardScaler, LabelEncoder\n",
    "from sklearn.linear_model import LogisticRegression\n",
    "from sklearn.ensemble import RandomForestClassifier\n",
    "from sklearn.metrics import classification_report, roc_auc_score, roc_curve\n",
    "from imblearn.over_sampling import SMOTE"
   ]
  },
  {
   "cell_type": "code",
   "execution_count": 3,
   "id": "2efe40d6",
   "metadata": {},
   "outputs": [],
   "source": [
    "#load Test set values data set\n",
    "Tst_set_vals= pd.read_csv('Test set values.csv')  # Update the path as needed\n",
    "\n",
    "#load Training set labels data set\n",
    "Train_set_label = pd. read_csv('Training set labels.csv')\n",
    "\n",
    "#load Training set values data set\n",
    "Train_set_vals= pd. read_csv('Training set values.csv')\n"
   ]
  },
  {
   "cell_type": "markdown",
   "id": "ebc4a2a6",
   "metadata": {},
   "source": [
    "## Data cleaning "
   ]
  },
  {
   "cell_type": "markdown",
   "id": "ead09472",
   "metadata": {},
   "source": [
    "#### Data cleaning will involve dropping irrelevant columns, checking for duplicates and missing values and taking necessary action. We also convert datatypes where necessary."
   ]
  },
  {
   "cell_type": "code",
   "execution_count": 4,
   "id": "f7fa93cc",
   "metadata": {},
   "outputs": [
    {
     "data": {
      "application/vnd.microsoft.datawrangler.viewer.v0+json": {
       "columns": [
        {
         "name": "index",
         "rawType": "int64",
         "type": "integer"
        },
        {
         "name": "id",
         "rawType": "int64",
         "type": "integer"
        },
        {
         "name": "amount_tsh",
         "rawType": "float64",
         "type": "float"
        },
        {
         "name": "date_recorded",
         "rawType": "object",
         "type": "string"
        },
        {
         "name": "funder",
         "rawType": "object",
         "type": "unknown"
        },
        {
         "name": "gps_height",
         "rawType": "int64",
         "type": "integer"
        },
        {
         "name": "installer",
         "rawType": "object",
         "type": "unknown"
        },
        {
         "name": "longitude",
         "rawType": "float64",
         "type": "float"
        },
        {
         "name": "latitude",
         "rawType": "float64",
         "type": "float"
        },
        {
         "name": "wpt_name",
         "rawType": "object",
         "type": "string"
        },
        {
         "name": "num_private",
         "rawType": "int64",
         "type": "integer"
        },
        {
         "name": "basin",
         "rawType": "object",
         "type": "string"
        },
        {
         "name": "subvillage",
         "rawType": "object",
         "type": "string"
        },
        {
         "name": "region",
         "rawType": "object",
         "type": "string"
        },
        {
         "name": "region_code",
         "rawType": "int64",
         "type": "integer"
        },
        {
         "name": "district_code",
         "rawType": "int64",
         "type": "integer"
        },
        {
         "name": "lga",
         "rawType": "object",
         "type": "string"
        },
        {
         "name": "ward",
         "rawType": "object",
         "type": "string"
        },
        {
         "name": "population",
         "rawType": "int64",
         "type": "integer"
        },
        {
         "name": "public_meeting",
         "rawType": "object",
         "type": "unknown"
        },
        {
         "name": "recorded_by",
         "rawType": "object",
         "type": "string"
        },
        {
         "name": "scheme_management",
         "rawType": "object",
         "type": "string"
        },
        {
         "name": "scheme_name",
         "rawType": "object",
         "type": "unknown"
        },
        {
         "name": "permit",
         "rawType": "object",
         "type": "unknown"
        },
        {
         "name": "construction_year",
         "rawType": "int64",
         "type": "integer"
        },
        {
         "name": "extraction_type",
         "rawType": "object",
         "type": "string"
        },
        {
         "name": "extraction_type_group",
         "rawType": "object",
         "type": "string"
        },
        {
         "name": "extraction_type_class",
         "rawType": "object",
         "type": "string"
        },
        {
         "name": "management",
         "rawType": "object",
         "type": "string"
        },
        {
         "name": "management_group",
         "rawType": "object",
         "type": "string"
        },
        {
         "name": "payment",
         "rawType": "object",
         "type": "string"
        },
        {
         "name": "payment_type",
         "rawType": "object",
         "type": "string"
        },
        {
         "name": "water_quality",
         "rawType": "object",
         "type": "string"
        },
        {
         "name": "quality_group",
         "rawType": "object",
         "type": "string"
        },
        {
         "name": "quantity",
         "rawType": "object",
         "type": "string"
        },
        {
         "name": "quantity_group",
         "rawType": "object",
         "type": "string"
        },
        {
         "name": "source",
         "rawType": "object",
         "type": "string"
        },
        {
         "name": "source_type",
         "rawType": "object",
         "type": "string"
        },
        {
         "name": "source_class",
         "rawType": "object",
         "type": "string"
        },
        {
         "name": "waterpoint_type",
         "rawType": "object",
         "type": "string"
        },
        {
         "name": "waterpoint_type_group",
         "rawType": "object",
         "type": "string"
        }
       ],
       "ref": "79660ede-a178-473f-90e4-db52321e9c0b",
       "rows": [
        [
         "0",
         "50785",
         "0.0",
         "2013-02-04",
         "Dmdd",
         "1996",
         "DMDD",
         "35.2907992",
         "-4.05969643",
         "Dinamu Secondary School",
         "0",
         "Internal",
         "Magoma",
         "Manyara",
         "21",
         "3",
         "Mbulu",
         "Bashay",
         "321",
         "True",
         "GeoData Consultants Ltd",
         "Parastatal",
         null,
         "True",
         "2012",
         "other",
         "other",
         "other",
         "parastatal",
         "parastatal",
         "never pay",
         "never pay",
         "soft",
         "good",
         "seasonal",
         "seasonal",
         "rainwater harvesting",
         "rainwater harvesting",
         "surface",
         "other",
         "other"
        ],
        [
         "1",
         "51630",
         "0.0",
         "2013-02-04",
         "Government Of Tanzania",
         "1569",
         "DWE",
         "36.65670893",
         "-3.30921425",
         "Kimnyak",
         "0",
         "Pangani",
         "Kimnyak",
         "Arusha",
         "2",
         "2",
         "Arusha Rural",
         "Kimnyaki",
         "300",
         "True",
         "GeoData Consultants Ltd",
         "VWC",
         "TPRI pipe line",
         "True",
         "2000",
         "gravity",
         "gravity",
         "gravity",
         "vwc",
         "user-group",
         "never pay",
         "never pay",
         "soft",
         "good",
         "insufficient",
         "insufficient",
         "spring",
         "spring",
         "groundwater",
         "communal standpipe",
         "communal standpipe"
        ],
        [
         "2",
         "17168",
         "0.0",
         "2013-02-01",
         null,
         "1567",
         null,
         "34.76786315",
         "-5.00434437",
         "Puma Secondary",
         "0",
         "Internal",
         "Msatu",
         "Singida",
         "13",
         "2",
         "Singida Rural",
         "Puma",
         "500",
         "True",
         "GeoData Consultants Ltd",
         "VWC",
         "P",
         null,
         "2010",
         "other",
         "other",
         "other",
         "vwc",
         "user-group",
         "never pay",
         "never pay",
         "soft",
         "good",
         "insufficient",
         "insufficient",
         "rainwater harvesting",
         "rainwater harvesting",
         "surface",
         "other",
         "other"
        ],
        [
         "3",
         "45559",
         "0.0",
         "2013-01-22",
         "Finn Water",
         "267",
         "FINN WATER",
         "38.05804609",
         "-9.41867222",
         "Kwa Mzee Pange",
         "0",
         "Ruvuma / Southern Coast",
         "Kipindimbi",
         "Lindi",
         "80",
         "43",
         "Liwale",
         "Mkutano",
         "250",
         null,
         "GeoData Consultants Ltd",
         "VWC",
         null,
         "True",
         "1987",
         "other",
         "other",
         "other",
         "vwc",
         "user-group",
         "unknown",
         "unknown",
         "soft",
         "good",
         "dry",
         "dry",
         "shallow well",
         "shallow well",
         "groundwater",
         "other",
         "other"
        ],
        [
         "4",
         "49871",
         "500.0",
         "2013-03-27",
         "Bruder",
         "1260",
         "BRUDER",
         "35.00612345",
         "-10.950412",
         "Kwa Mzee Turuka",
         "0",
         "Ruvuma / Southern Coast",
         "Losonga",
         "Ruvuma",
         "10",
         "3",
         "Mbinga",
         "Mbinga Urban",
         "60",
         null,
         "GeoData Consultants Ltd",
         "Water Board",
         "BRUDER",
         "True",
         "2000",
         "gravity",
         "gravity",
         "gravity",
         "water board",
         "user-group",
         "pay monthly",
         "monthly",
         "soft",
         "good",
         "enough",
         "enough",
         "spring",
         "spring",
         "groundwater",
         "communal standpipe",
         "communal standpipe"
        ],
        [
         "5",
         "52449",
         "0.0",
         "2013-03-04",
         "Government Of Tanzania",
         "1685",
         "DWE",
         "36.68527855",
         "-3.30242017",
         "Masaga",
         "0",
         "Pangani",
         "Masaga",
         "Arusha",
         "2",
         "2",
         "Arusha Rural",
         "Ilkiding'a",
         "200",
         "True",
         "GeoData Consultants Ltd",
         "VWC",
         "Timbolo sambasha TPRI pipe line",
         "True",
         "1990",
         "gravity",
         "gravity",
         "gravity",
         "vwc",
         "user-group",
         "never pay",
         "never pay",
         "soft",
         "good",
         "enough",
         "enough",
         "spring",
         "spring",
         "groundwater",
         "communal standpipe",
         "communal standpipe"
        ],
        [
         "6",
         "24806",
         "0.0",
         "2011-03-02",
         "Government Of Tanzania",
         "550",
         "Gover",
         "36.39804116",
         "-7.54138236",
         "none",
         "0",
         "Rufiji",
         "Kichangani",
         "Iringa",
         "11",
         "7",
         "Kilolo",
         "Mahenge",
         "600",
         "True",
         "GeoData Consultants Ltd",
         "VWC",
         null,
         "True",
         "2007",
         "india mark ii",
         "india mark ii",
         "handpump",
         "vwc",
         "user-group",
         "never pay",
         "never pay",
         "salty",
         "salty",
         "enough",
         "enough",
         "machine dbh",
         "borehole",
         "groundwater",
         "hand pump",
         "hand pump"
        ],
        [
         "7",
         "28965",
         "0.0",
         "2013-01-25",
         "Finw",
         "234",
         "FinW",
         "39.60741997",
         "-10.89378645",
         "Kwa Mkwaa",
         "0",
         "Ruvuma / Southern Coast",
         "Ilala",
         "Mtwara",
         "9",
         "4",
         "Tandahimba",
         "Maundo",
         "1",
         "True",
         "GeoData Consultants Ltd",
         "Water Board",
         "Borehole",
         "True",
         "1982",
         "submersible",
         "submersible",
         "submersible",
         "vwc",
         "user-group",
         "never pay",
         "never pay",
         "soft",
         "good",
         "dry",
         "dry",
         "machine dbh",
         "borehole",
         "groundwater",
         "communal standpipe multiple",
         "communal standpipe"
        ],
        [
         "8",
         "36301",
         "30.0",
         "2013-01-23",
         "Unicef",
         "584",
         "LGA",
         "39.262950700000005",
         "-10.82358805",
         "Kwa Mzee Mpini",
         "0",
         "Ruvuma / Southern Coast",
         "Bondeni",
         "Mtwara",
         "90",
         "33",
         "Newala",
         "Mnekachi",
         "40",
         "True",
         "GeoData Consultants Ltd",
         "VWC",
         "MWS",
         "False",
         "1997",
         "gravity",
         "gravity",
         "gravity",
         "vwc",
         "user-group",
         "pay per bucket",
         "per bucket",
         "soft",
         "good",
         "insufficient",
         "insufficient",
         "spring",
         "spring",
         "groundwater",
         "communal standpipe",
         "communal standpipe"
        ],
        [
         "9",
         "54122",
         "0.0",
         "2013-03-18",
         "Lawatefuka Water Supply",
         "1083",
         "Lawatefuka water sup",
         "37.09610836",
         "-3.25175375",
         "Kwa Flora Daud",
         "0",
         "Pangani",
         "Donyomuruak",
         "Kilimanjaro",
         "3",
         "7",
         "Siha",
         "Siha Kati",
         "1",
         "True",
         "GeoData Consultants Ltd",
         "Water Board",
         "BL Erasto Laizer",
         "True",
         "2003",
         "gravity",
         "gravity",
         "gravity",
         "water board",
         "user-group",
         "pay monthly",
         "monthly",
         "soft",
         "good",
         "enough",
         "enough",
         "spring",
         "spring",
         "groundwater",
         "communal standpipe",
         "communal standpipe"
        ]
       ],
       "shape": {
        "columns": 40,
        "rows": 10
       }
      },
      "text/html": [
       "<div>\n",
       "<style scoped>\n",
       "    .dataframe tbody tr th:only-of-type {\n",
       "        vertical-align: middle;\n",
       "    }\n",
       "\n",
       "    .dataframe tbody tr th {\n",
       "        vertical-align: top;\n",
       "    }\n",
       "\n",
       "    .dataframe thead th {\n",
       "        text-align: right;\n",
       "    }\n",
       "</style>\n",
       "<table border=\"1\" class=\"dataframe\">\n",
       "  <thead>\n",
       "    <tr style=\"text-align: right;\">\n",
       "      <th></th>\n",
       "      <th>id</th>\n",
       "      <th>amount_tsh</th>\n",
       "      <th>date_recorded</th>\n",
       "      <th>funder</th>\n",
       "      <th>gps_height</th>\n",
       "      <th>installer</th>\n",
       "      <th>longitude</th>\n",
       "      <th>latitude</th>\n",
       "      <th>wpt_name</th>\n",
       "      <th>num_private</th>\n",
       "      <th>...</th>\n",
       "      <th>payment_type</th>\n",
       "      <th>water_quality</th>\n",
       "      <th>quality_group</th>\n",
       "      <th>quantity</th>\n",
       "      <th>quantity_group</th>\n",
       "      <th>source</th>\n",
       "      <th>source_type</th>\n",
       "      <th>source_class</th>\n",
       "      <th>waterpoint_type</th>\n",
       "      <th>waterpoint_type_group</th>\n",
       "    </tr>\n",
       "  </thead>\n",
       "  <tbody>\n",
       "    <tr>\n",
       "      <th>0</th>\n",
       "      <td>50785</td>\n",
       "      <td>0.0</td>\n",
       "      <td>2013-02-04</td>\n",
       "      <td>Dmdd</td>\n",
       "      <td>1996</td>\n",
       "      <td>DMDD</td>\n",
       "      <td>35.290799</td>\n",
       "      <td>-4.059696</td>\n",
       "      <td>Dinamu Secondary School</td>\n",
       "      <td>0</td>\n",
       "      <td>...</td>\n",
       "      <td>never pay</td>\n",
       "      <td>soft</td>\n",
       "      <td>good</td>\n",
       "      <td>seasonal</td>\n",
       "      <td>seasonal</td>\n",
       "      <td>rainwater harvesting</td>\n",
       "      <td>rainwater harvesting</td>\n",
       "      <td>surface</td>\n",
       "      <td>other</td>\n",
       "      <td>other</td>\n",
       "    </tr>\n",
       "    <tr>\n",
       "      <th>1</th>\n",
       "      <td>51630</td>\n",
       "      <td>0.0</td>\n",
       "      <td>2013-02-04</td>\n",
       "      <td>Government Of Tanzania</td>\n",
       "      <td>1569</td>\n",
       "      <td>DWE</td>\n",
       "      <td>36.656709</td>\n",
       "      <td>-3.309214</td>\n",
       "      <td>Kimnyak</td>\n",
       "      <td>0</td>\n",
       "      <td>...</td>\n",
       "      <td>never pay</td>\n",
       "      <td>soft</td>\n",
       "      <td>good</td>\n",
       "      <td>insufficient</td>\n",
       "      <td>insufficient</td>\n",
       "      <td>spring</td>\n",
       "      <td>spring</td>\n",
       "      <td>groundwater</td>\n",
       "      <td>communal standpipe</td>\n",
       "      <td>communal standpipe</td>\n",
       "    </tr>\n",
       "    <tr>\n",
       "      <th>2</th>\n",
       "      <td>17168</td>\n",
       "      <td>0.0</td>\n",
       "      <td>2013-02-01</td>\n",
       "      <td>NaN</td>\n",
       "      <td>1567</td>\n",
       "      <td>NaN</td>\n",
       "      <td>34.767863</td>\n",
       "      <td>-5.004344</td>\n",
       "      <td>Puma Secondary</td>\n",
       "      <td>0</td>\n",
       "      <td>...</td>\n",
       "      <td>never pay</td>\n",
       "      <td>soft</td>\n",
       "      <td>good</td>\n",
       "      <td>insufficient</td>\n",
       "      <td>insufficient</td>\n",
       "      <td>rainwater harvesting</td>\n",
       "      <td>rainwater harvesting</td>\n",
       "      <td>surface</td>\n",
       "      <td>other</td>\n",
       "      <td>other</td>\n",
       "    </tr>\n",
       "    <tr>\n",
       "      <th>3</th>\n",
       "      <td>45559</td>\n",
       "      <td>0.0</td>\n",
       "      <td>2013-01-22</td>\n",
       "      <td>Finn Water</td>\n",
       "      <td>267</td>\n",
       "      <td>FINN WATER</td>\n",
       "      <td>38.058046</td>\n",
       "      <td>-9.418672</td>\n",
       "      <td>Kwa Mzee Pange</td>\n",
       "      <td>0</td>\n",
       "      <td>...</td>\n",
       "      <td>unknown</td>\n",
       "      <td>soft</td>\n",
       "      <td>good</td>\n",
       "      <td>dry</td>\n",
       "      <td>dry</td>\n",
       "      <td>shallow well</td>\n",
       "      <td>shallow well</td>\n",
       "      <td>groundwater</td>\n",
       "      <td>other</td>\n",
       "      <td>other</td>\n",
       "    </tr>\n",
       "    <tr>\n",
       "      <th>4</th>\n",
       "      <td>49871</td>\n",
       "      <td>500.0</td>\n",
       "      <td>2013-03-27</td>\n",
       "      <td>Bruder</td>\n",
       "      <td>1260</td>\n",
       "      <td>BRUDER</td>\n",
       "      <td>35.006123</td>\n",
       "      <td>-10.950412</td>\n",
       "      <td>Kwa Mzee Turuka</td>\n",
       "      <td>0</td>\n",
       "      <td>...</td>\n",
       "      <td>monthly</td>\n",
       "      <td>soft</td>\n",
       "      <td>good</td>\n",
       "      <td>enough</td>\n",
       "      <td>enough</td>\n",
       "      <td>spring</td>\n",
       "      <td>spring</td>\n",
       "      <td>groundwater</td>\n",
       "      <td>communal standpipe</td>\n",
       "      <td>communal standpipe</td>\n",
       "    </tr>\n",
       "    <tr>\n",
       "      <th>5</th>\n",
       "      <td>52449</td>\n",
       "      <td>0.0</td>\n",
       "      <td>2013-03-04</td>\n",
       "      <td>Government Of Tanzania</td>\n",
       "      <td>1685</td>\n",
       "      <td>DWE</td>\n",
       "      <td>36.685279</td>\n",
       "      <td>-3.302420</td>\n",
       "      <td>Masaga</td>\n",
       "      <td>0</td>\n",
       "      <td>...</td>\n",
       "      <td>never pay</td>\n",
       "      <td>soft</td>\n",
       "      <td>good</td>\n",
       "      <td>enough</td>\n",
       "      <td>enough</td>\n",
       "      <td>spring</td>\n",
       "      <td>spring</td>\n",
       "      <td>groundwater</td>\n",
       "      <td>communal standpipe</td>\n",
       "      <td>communal standpipe</td>\n",
       "    </tr>\n",
       "    <tr>\n",
       "      <th>6</th>\n",
       "      <td>24806</td>\n",
       "      <td>0.0</td>\n",
       "      <td>2011-03-02</td>\n",
       "      <td>Government Of Tanzania</td>\n",
       "      <td>550</td>\n",
       "      <td>Gover</td>\n",
       "      <td>36.398041</td>\n",
       "      <td>-7.541382</td>\n",
       "      <td>none</td>\n",
       "      <td>0</td>\n",
       "      <td>...</td>\n",
       "      <td>never pay</td>\n",
       "      <td>salty</td>\n",
       "      <td>salty</td>\n",
       "      <td>enough</td>\n",
       "      <td>enough</td>\n",
       "      <td>machine dbh</td>\n",
       "      <td>borehole</td>\n",
       "      <td>groundwater</td>\n",
       "      <td>hand pump</td>\n",
       "      <td>hand pump</td>\n",
       "    </tr>\n",
       "    <tr>\n",
       "      <th>7</th>\n",
       "      <td>28965</td>\n",
       "      <td>0.0</td>\n",
       "      <td>2013-01-25</td>\n",
       "      <td>Finw</td>\n",
       "      <td>234</td>\n",
       "      <td>FinW</td>\n",
       "      <td>39.607420</td>\n",
       "      <td>-10.893786</td>\n",
       "      <td>Kwa Mkwaa</td>\n",
       "      <td>0</td>\n",
       "      <td>...</td>\n",
       "      <td>never pay</td>\n",
       "      <td>soft</td>\n",
       "      <td>good</td>\n",
       "      <td>dry</td>\n",
       "      <td>dry</td>\n",
       "      <td>machine dbh</td>\n",
       "      <td>borehole</td>\n",
       "      <td>groundwater</td>\n",
       "      <td>communal standpipe multiple</td>\n",
       "      <td>communal standpipe</td>\n",
       "    </tr>\n",
       "    <tr>\n",
       "      <th>8</th>\n",
       "      <td>36301</td>\n",
       "      <td>30.0</td>\n",
       "      <td>2013-01-23</td>\n",
       "      <td>Unicef</td>\n",
       "      <td>584</td>\n",
       "      <td>LGA</td>\n",
       "      <td>39.262951</td>\n",
       "      <td>-10.823588</td>\n",
       "      <td>Kwa Mzee Mpini</td>\n",
       "      <td>0</td>\n",
       "      <td>...</td>\n",
       "      <td>per bucket</td>\n",
       "      <td>soft</td>\n",
       "      <td>good</td>\n",
       "      <td>insufficient</td>\n",
       "      <td>insufficient</td>\n",
       "      <td>spring</td>\n",
       "      <td>spring</td>\n",
       "      <td>groundwater</td>\n",
       "      <td>communal standpipe</td>\n",
       "      <td>communal standpipe</td>\n",
       "    </tr>\n",
       "    <tr>\n",
       "      <th>9</th>\n",
       "      <td>54122</td>\n",
       "      <td>0.0</td>\n",
       "      <td>2013-03-18</td>\n",
       "      <td>Lawatefuka Water Supply</td>\n",
       "      <td>1083</td>\n",
       "      <td>Lawatefuka water sup</td>\n",
       "      <td>37.096108</td>\n",
       "      <td>-3.251754</td>\n",
       "      <td>Kwa Flora Daud</td>\n",
       "      <td>0</td>\n",
       "      <td>...</td>\n",
       "      <td>monthly</td>\n",
       "      <td>soft</td>\n",
       "      <td>good</td>\n",
       "      <td>enough</td>\n",
       "      <td>enough</td>\n",
       "      <td>spring</td>\n",
       "      <td>spring</td>\n",
       "      <td>groundwater</td>\n",
       "      <td>communal standpipe</td>\n",
       "      <td>communal standpipe</td>\n",
       "    </tr>\n",
       "  </tbody>\n",
       "</table>\n",
       "<p>10 rows × 40 columns</p>\n",
       "</div>"
      ],
      "text/plain": [
       "      id  amount_tsh date_recorded                   funder  gps_height  \\\n",
       "0  50785         0.0    2013-02-04                     Dmdd        1996   \n",
       "1  51630         0.0    2013-02-04   Government Of Tanzania        1569   \n",
       "2  17168         0.0    2013-02-01                      NaN        1567   \n",
       "3  45559         0.0    2013-01-22               Finn Water         267   \n",
       "4  49871       500.0    2013-03-27                   Bruder        1260   \n",
       "5  52449         0.0    2013-03-04   Government Of Tanzania        1685   \n",
       "6  24806         0.0    2011-03-02   Government Of Tanzania         550   \n",
       "7  28965         0.0    2013-01-25                     Finw         234   \n",
       "8  36301        30.0    2013-01-23                   Unicef         584   \n",
       "9  54122         0.0    2013-03-18  Lawatefuka Water Supply        1083   \n",
       "\n",
       "              installer  longitude   latitude                 wpt_name  \\\n",
       "0                  DMDD  35.290799  -4.059696  Dinamu Secondary School   \n",
       "1                   DWE  36.656709  -3.309214                  Kimnyak   \n",
       "2                   NaN  34.767863  -5.004344           Puma Secondary   \n",
       "3            FINN WATER  38.058046  -9.418672           Kwa Mzee Pange   \n",
       "4                BRUDER  35.006123 -10.950412          Kwa Mzee Turuka   \n",
       "5                   DWE  36.685279  -3.302420                   Masaga   \n",
       "6                 Gover  36.398041  -7.541382                     none   \n",
       "7                  FinW  39.607420 -10.893786                Kwa Mkwaa   \n",
       "8                   LGA  39.262951 -10.823588           Kwa Mzee Mpini   \n",
       "9  Lawatefuka water sup  37.096108  -3.251754           Kwa Flora Daud   \n",
       "\n",
       "   num_private  ... payment_type water_quality quality_group      quantity  \\\n",
       "0            0  ...    never pay          soft          good      seasonal   \n",
       "1            0  ...    never pay          soft          good  insufficient   \n",
       "2            0  ...    never pay          soft          good  insufficient   \n",
       "3            0  ...      unknown          soft          good           dry   \n",
       "4            0  ...      monthly          soft          good        enough   \n",
       "5            0  ...    never pay          soft          good        enough   \n",
       "6            0  ...    never pay         salty         salty        enough   \n",
       "7            0  ...    never pay          soft          good           dry   \n",
       "8            0  ...   per bucket          soft          good  insufficient   \n",
       "9            0  ...      monthly          soft          good        enough   \n",
       "\n",
       "   quantity_group                source           source_type  source_class  \\\n",
       "0        seasonal  rainwater harvesting  rainwater harvesting       surface   \n",
       "1    insufficient                spring                spring   groundwater   \n",
       "2    insufficient  rainwater harvesting  rainwater harvesting       surface   \n",
       "3             dry          shallow well          shallow well   groundwater   \n",
       "4          enough                spring                spring   groundwater   \n",
       "5          enough                spring                spring   groundwater   \n",
       "6          enough           machine dbh              borehole   groundwater   \n",
       "7             dry           machine dbh              borehole   groundwater   \n",
       "8    insufficient                spring                spring   groundwater   \n",
       "9          enough                spring                spring   groundwater   \n",
       "\n",
       "               waterpoint_type waterpoint_type_group  \n",
       "0                        other                 other  \n",
       "1           communal standpipe    communal standpipe  \n",
       "2                        other                 other  \n",
       "3                        other                 other  \n",
       "4           communal standpipe    communal standpipe  \n",
       "5           communal standpipe    communal standpipe  \n",
       "6                    hand pump             hand pump  \n",
       "7  communal standpipe multiple    communal standpipe  \n",
       "8           communal standpipe    communal standpipe  \n",
       "9           communal standpipe    communal standpipe  \n",
       "\n",
       "[10 rows x 40 columns]"
      ]
     },
     "execution_count": 4,
     "metadata": {},
     "output_type": "execute_result"
    }
   ],
   "source": [
    "#checking data frame\n",
    "Tst_set_vals.head(10)"
   ]
  },
  {
   "cell_type": "code",
   "execution_count": 5,
   "id": "ea2b691c",
   "metadata": {},
   "outputs": [
    {
     "name": "stdout",
     "output_type": "stream",
     "text": [
      "<class 'pandas.core.frame.DataFrame'>\n",
      "RangeIndex: 14850 entries, 0 to 14849\n",
      "Data columns (total 40 columns):\n",
      " #   Column                 Non-Null Count  Dtype  \n",
      "---  ------                 --------------  -----  \n",
      " 0   id                     14850 non-null  int64  \n",
      " 1   amount_tsh             14850 non-null  float64\n",
      " 2   date_recorded          14850 non-null  object \n",
      " 3   funder                 13980 non-null  object \n",
      " 4   gps_height             14850 non-null  int64  \n",
      " 5   installer              13973 non-null  object \n",
      " 6   longitude              14850 non-null  float64\n",
      " 7   latitude               14850 non-null  float64\n",
      " 8   wpt_name               14850 non-null  object \n",
      " 9   num_private            14850 non-null  int64  \n",
      " 10  basin                  14850 non-null  object \n",
      " 11  subvillage             14751 non-null  object \n",
      " 12  region                 14850 non-null  object \n",
      " 13  region_code            14850 non-null  int64  \n",
      " 14  district_code          14850 non-null  int64  \n",
      " 15  lga                    14850 non-null  object \n",
      " 16  ward                   14850 non-null  object \n",
      " 17  population             14850 non-null  int64  \n",
      " 18  public_meeting         14029 non-null  object \n",
      " 19  recorded_by            14850 non-null  object \n",
      " 20  scheme_management      13881 non-null  object \n",
      " 21  scheme_name            7608 non-null   object \n",
      " 22  permit                 14113 non-null  object \n",
      " 23  construction_year      14850 non-null  int64  \n",
      " 24  extraction_type        14850 non-null  object \n",
      " 25  extraction_type_group  14850 non-null  object \n",
      " 26  extraction_type_class  14850 non-null  object \n",
      " 27  management             14850 non-null  object \n",
      " 28  management_group       14850 non-null  object \n",
      " 29  payment                14850 non-null  object \n",
      " 30  payment_type           14850 non-null  object \n",
      " 31  water_quality          14850 non-null  object \n",
      " 32  quality_group          14850 non-null  object \n",
      " 33  quantity               14850 non-null  object \n",
      " 34  quantity_group         14850 non-null  object \n",
      " 35  source                 14850 non-null  object \n",
      " 36  source_type            14850 non-null  object \n",
      " 37  source_class           14850 non-null  object \n",
      " 38  waterpoint_type        14850 non-null  object \n",
      " 39  waterpoint_type_group  14850 non-null  object \n",
      "dtypes: float64(3), int64(7), object(30)\n",
      "memory usage: 4.5+ MB\n"
     ]
    }
   ],
   "source": [
    "Tst_set_vals.info() #detailed information of the data frame"
   ]
  },
  {
   "cell_type": "code",
   "execution_count": 6,
   "id": "821af70b",
   "metadata": {},
   "outputs": [
    {
     "data": {
      "application/vnd.microsoft.datawrangler.viewer.v0+json": {
       "columns": [
        {
         "name": "index",
         "rawType": "object",
         "type": "string"
        },
        {
         "name": "0",
         "rawType": "int64",
         "type": "integer"
        }
       ],
       "ref": "04c882dc-e8f1-4d81-9822-ecf94d549686",
       "rows": [
        [
         "id",
         "0"
        ],
        [
         "amount_tsh",
         "0"
        ],
        [
         "date_recorded",
         "0"
        ],
        [
         "funder",
         "870"
        ],
        [
         "gps_height",
         "0"
        ],
        [
         "installer",
         "877"
        ],
        [
         "longitude",
         "0"
        ],
        [
         "latitude",
         "0"
        ],
        [
         "wpt_name",
         "0"
        ],
        [
         "num_private",
         "0"
        ],
        [
         "basin",
         "0"
        ],
        [
         "subvillage",
         "99"
        ],
        [
         "region",
         "0"
        ],
        [
         "region_code",
         "0"
        ],
        [
         "district_code",
         "0"
        ],
        [
         "lga",
         "0"
        ],
        [
         "ward",
         "0"
        ],
        [
         "population",
         "0"
        ],
        [
         "public_meeting",
         "821"
        ],
        [
         "recorded_by",
         "0"
        ],
        [
         "scheme_management",
         "969"
        ],
        [
         "scheme_name",
         "7242"
        ],
        [
         "permit",
         "737"
        ],
        [
         "construction_year",
         "0"
        ],
        [
         "extraction_type",
         "0"
        ],
        [
         "extraction_type_group",
         "0"
        ],
        [
         "extraction_type_class",
         "0"
        ],
        [
         "management",
         "0"
        ],
        [
         "management_group",
         "0"
        ],
        [
         "payment",
         "0"
        ],
        [
         "payment_type",
         "0"
        ],
        [
         "water_quality",
         "0"
        ],
        [
         "quality_group",
         "0"
        ],
        [
         "quantity",
         "0"
        ],
        [
         "quantity_group",
         "0"
        ],
        [
         "source",
         "0"
        ],
        [
         "source_type",
         "0"
        ],
        [
         "source_class",
         "0"
        ],
        [
         "waterpoint_type",
         "0"
        ],
        [
         "waterpoint_type_group",
         "0"
        ]
       ],
       "shape": {
        "columns": 1,
        "rows": 40
       }
      },
      "text/plain": [
       "id                          0\n",
       "amount_tsh                  0\n",
       "date_recorded               0\n",
       "funder                    870\n",
       "gps_height                  0\n",
       "installer                 877\n",
       "longitude                   0\n",
       "latitude                    0\n",
       "wpt_name                    0\n",
       "num_private                 0\n",
       "basin                       0\n",
       "subvillage                 99\n",
       "region                      0\n",
       "region_code                 0\n",
       "district_code               0\n",
       "lga                         0\n",
       "ward                        0\n",
       "population                  0\n",
       "public_meeting            821\n",
       "recorded_by                 0\n",
       "scheme_management         969\n",
       "scheme_name              7242\n",
       "permit                    737\n",
       "construction_year           0\n",
       "extraction_type             0\n",
       "extraction_type_group       0\n",
       "extraction_type_class       0\n",
       "management                  0\n",
       "management_group            0\n",
       "payment                     0\n",
       "payment_type                0\n",
       "water_quality               0\n",
       "quality_group               0\n",
       "quantity                    0\n",
       "quantity_group              0\n",
       "source                      0\n",
       "source_type                 0\n",
       "source_class                0\n",
       "waterpoint_type             0\n",
       "waterpoint_type_group       0\n",
       "dtype: int64"
      ]
     },
     "execution_count": 6,
     "metadata": {},
     "output_type": "execute_result"
    }
   ],
   "source": [
    "#chech for missing values\n",
    "Tst_set_vals.isna().sum()"
   ]
  },
  {
   "cell_type": "code",
   "execution_count": 7,
   "id": "95afa87c",
   "metadata": {},
   "outputs": [
    {
     "data": {
      "text/plain": [
       "0"
      ]
     },
     "execution_count": 7,
     "metadata": {},
     "output_type": "execute_result"
    }
   ],
   "source": [
    "#check for duplicates\n",
    "Tst_set_vals.duplicated().sum()"
   ]
  },
  {
   "cell_type": "code",
   "execution_count": 8,
   "id": "a0d0a015",
   "metadata": {},
   "outputs": [],
   "source": [
    "#drop irrelevant columns\n",
    "Tst_set_vals.drop(columns= ['scheme_name','scheme_management','permit','public_meeting','installer','funder'],axis=1, inplace= True)"
   ]
  },
  {
   "cell_type": "code",
   "execution_count": 9,
   "id": "fe090930",
   "metadata": {},
   "outputs": [
    {
     "name": "stdout",
     "output_type": "stream",
     "text": [
      "<class 'pandas.core.frame.DataFrame'>\n",
      "RangeIndex: 14850 entries, 0 to 14849\n",
      "Data columns (total 34 columns):\n",
      " #   Column                 Non-Null Count  Dtype  \n",
      "---  ------                 --------------  -----  \n",
      " 0   id                     14850 non-null  int64  \n",
      " 1   amount_tsh             14850 non-null  float64\n",
      " 2   date_recorded          14850 non-null  object \n",
      " 3   gps_height             14850 non-null  int64  \n",
      " 4   longitude              14850 non-null  float64\n",
      " 5   latitude               14850 non-null  float64\n",
      " 6   wpt_name               14850 non-null  object \n",
      " 7   num_private            14850 non-null  int64  \n",
      " 8   basin                  14850 non-null  object \n",
      " 9   subvillage             14751 non-null  object \n",
      " 10  region                 14850 non-null  object \n",
      " 11  region_code            14850 non-null  int64  \n",
      " 12  district_code          14850 non-null  int64  \n",
      " 13  lga                    14850 non-null  object \n",
      " 14  ward                   14850 non-null  object \n",
      " 15  population             14850 non-null  int64  \n",
      " 16  recorded_by            14850 non-null  object \n",
      " 17  construction_year      14850 non-null  int64  \n",
      " 18  extraction_type        14850 non-null  object \n",
      " 19  extraction_type_group  14850 non-null  object \n",
      " 20  extraction_type_class  14850 non-null  object \n",
      " 21  management             14850 non-null  object \n",
      " 22  management_group       14850 non-null  object \n",
      " 23  payment                14850 non-null  object \n",
      " 24  payment_type           14850 non-null  object \n",
      " 25  water_quality          14850 non-null  object \n",
      " 26  quality_group          14850 non-null  object \n",
      " 27  quantity               14850 non-null  object \n",
      " 28  quantity_group         14850 non-null  object \n",
      " 29  source                 14850 non-null  object \n",
      " 30  source_type            14850 non-null  object \n",
      " 31  source_class           14850 non-null  object \n",
      " 32  waterpoint_type        14850 non-null  object \n",
      " 33  waterpoint_type_group  14850 non-null  object \n",
      "dtypes: float64(3), int64(7), object(24)\n",
      "memory usage: 3.9+ MB\n"
     ]
    }
   ],
   "source": [
    "Tst_set_vals.info() # columsn dropped"
   ]
  },
  {
   "cell_type": "code",
   "execution_count": 10,
   "id": "7fae7661",
   "metadata": {},
   "outputs": [
    {
     "data": {
      "application/vnd.microsoft.datawrangler.viewer.v0+json": {
       "columns": [
        {
         "name": "index",
         "rawType": "int64",
         "type": "integer"
        },
        {
         "name": "id",
         "rawType": "int64",
         "type": "integer"
        },
        {
         "name": "status_group",
         "rawType": "object",
         "type": "string"
        }
       ],
       "ref": "16ab5270-9dbc-40de-8170-5fd6ed28809f",
       "rows": [
        [
         "0",
         "69572",
         "functional"
        ],
        [
         "1",
         "8776",
         "functional"
        ],
        [
         "2",
         "34310",
         "functional"
        ],
        [
         "3",
         "67743",
         "non functional"
        ],
        [
         "4",
         "19728",
         "functional"
        ],
        [
         "5",
         "9944",
         "functional"
        ],
        [
         "6",
         "19816",
         "non functional"
        ],
        [
         "7",
         "54551",
         "non functional"
        ],
        [
         "8",
         "53934",
         "non functional"
        ],
        [
         "9",
         "46144",
         "functional"
        ]
       ],
       "shape": {
        "columns": 2,
        "rows": 10
       }
      },
      "text/html": [
       "<div>\n",
       "<style scoped>\n",
       "    .dataframe tbody tr th:only-of-type {\n",
       "        vertical-align: middle;\n",
       "    }\n",
       "\n",
       "    .dataframe tbody tr th {\n",
       "        vertical-align: top;\n",
       "    }\n",
       "\n",
       "    .dataframe thead th {\n",
       "        text-align: right;\n",
       "    }\n",
       "</style>\n",
       "<table border=\"1\" class=\"dataframe\">\n",
       "  <thead>\n",
       "    <tr style=\"text-align: right;\">\n",
       "      <th></th>\n",
       "      <th>id</th>\n",
       "      <th>status_group</th>\n",
       "    </tr>\n",
       "  </thead>\n",
       "  <tbody>\n",
       "    <tr>\n",
       "      <th>0</th>\n",
       "      <td>69572</td>\n",
       "      <td>functional</td>\n",
       "    </tr>\n",
       "    <tr>\n",
       "      <th>1</th>\n",
       "      <td>8776</td>\n",
       "      <td>functional</td>\n",
       "    </tr>\n",
       "    <tr>\n",
       "      <th>2</th>\n",
       "      <td>34310</td>\n",
       "      <td>functional</td>\n",
       "    </tr>\n",
       "    <tr>\n",
       "      <th>3</th>\n",
       "      <td>67743</td>\n",
       "      <td>non functional</td>\n",
       "    </tr>\n",
       "    <tr>\n",
       "      <th>4</th>\n",
       "      <td>19728</td>\n",
       "      <td>functional</td>\n",
       "    </tr>\n",
       "    <tr>\n",
       "      <th>5</th>\n",
       "      <td>9944</td>\n",
       "      <td>functional</td>\n",
       "    </tr>\n",
       "    <tr>\n",
       "      <th>6</th>\n",
       "      <td>19816</td>\n",
       "      <td>non functional</td>\n",
       "    </tr>\n",
       "    <tr>\n",
       "      <th>7</th>\n",
       "      <td>54551</td>\n",
       "      <td>non functional</td>\n",
       "    </tr>\n",
       "    <tr>\n",
       "      <th>8</th>\n",
       "      <td>53934</td>\n",
       "      <td>non functional</td>\n",
       "    </tr>\n",
       "    <tr>\n",
       "      <th>9</th>\n",
       "      <td>46144</td>\n",
       "      <td>functional</td>\n",
       "    </tr>\n",
       "  </tbody>\n",
       "</table>\n",
       "</div>"
      ],
      "text/plain": [
       "      id    status_group\n",
       "0  69572      functional\n",
       "1   8776      functional\n",
       "2  34310      functional\n",
       "3  67743  non functional\n",
       "4  19728      functional\n",
       "5   9944      functional\n",
       "6  19816  non functional\n",
       "7  54551  non functional\n",
       "8  53934  non functional\n",
       "9  46144      functional"
      ]
     },
     "execution_count": 10,
     "metadata": {},
     "output_type": "execute_result"
    }
   ],
   "source": [
    "#check data frame\n",
    "Train_set_label.head(10)"
   ]
  },
  {
   "cell_type": "code",
   "execution_count": 11,
   "id": "42d71e0d",
   "metadata": {},
   "outputs": [
    {
     "data": {
      "text/plain": [
       "0"
      ]
     },
     "execution_count": 11,
     "metadata": {},
     "output_type": "execute_result"
    }
   ],
   "source": [
    "#check for duplicates\n",
    "Train_set_label.duplicated() .sum()"
   ]
  },
  {
   "cell_type": "code",
   "execution_count": 12,
   "id": "d8654dbb",
   "metadata": {},
   "outputs": [
    {
     "data": {
      "application/vnd.microsoft.datawrangler.viewer.v0+json": {
       "columns": [
        {
         "name": "index",
         "rawType": "object",
         "type": "string"
        },
        {
         "name": "0",
         "rawType": "int64",
         "type": "integer"
        }
       ],
       "ref": "645a8097-7c7d-4272-865b-da3d407acc43",
       "rows": [
        [
         "id",
         "0"
        ],
        [
         "status_group",
         "0"
        ]
       ],
       "shape": {
        "columns": 1,
        "rows": 2
       }
      },
      "text/plain": [
       "id              0\n",
       "status_group    0\n",
       "dtype: int64"
      ]
     },
     "execution_count": 12,
     "metadata": {},
     "output_type": "execute_result"
    }
   ],
   "source": [
    "#check missing values\n",
    "Train_set_label.isna().sum()"
   ]
  },
  {
   "cell_type": "code",
   "execution_count": 13,
   "id": "99e4347e",
   "metadata": {},
   "outputs": [
    {
     "data": {
      "application/vnd.microsoft.datawrangler.viewer.v0+json": {
       "columns": [
        {
         "name": "index",
         "rawType": "int64",
         "type": "integer"
        },
        {
         "name": "id",
         "rawType": "int64",
         "type": "integer"
        },
        {
         "name": "amount_tsh",
         "rawType": "float64",
         "type": "float"
        },
        {
         "name": "date_recorded",
         "rawType": "object",
         "type": "string"
        },
        {
         "name": "funder",
         "rawType": "object",
         "type": "string"
        },
        {
         "name": "gps_height",
         "rawType": "int64",
         "type": "integer"
        },
        {
         "name": "installer",
         "rawType": "object",
         "type": "string"
        },
        {
         "name": "longitude",
         "rawType": "float64",
         "type": "float"
        },
        {
         "name": "latitude",
         "rawType": "float64",
         "type": "float"
        },
        {
         "name": "wpt_name",
         "rawType": "object",
         "type": "string"
        },
        {
         "name": "num_private",
         "rawType": "int64",
         "type": "integer"
        },
        {
         "name": "basin",
         "rawType": "object",
         "type": "string"
        },
        {
         "name": "subvillage",
         "rawType": "object",
         "type": "string"
        },
        {
         "name": "region",
         "rawType": "object",
         "type": "string"
        },
        {
         "name": "region_code",
         "rawType": "int64",
         "type": "integer"
        },
        {
         "name": "district_code",
         "rawType": "int64",
         "type": "integer"
        },
        {
         "name": "lga",
         "rawType": "object",
         "type": "string"
        },
        {
         "name": "ward",
         "rawType": "object",
         "type": "string"
        },
        {
         "name": "population",
         "rawType": "int64",
         "type": "integer"
        },
        {
         "name": "public_meeting",
         "rawType": "object",
         "type": "unknown"
        },
        {
         "name": "recorded_by",
         "rawType": "object",
         "type": "string"
        },
        {
         "name": "scheme_management",
         "rawType": "object",
         "type": "unknown"
        },
        {
         "name": "scheme_name",
         "rawType": "object",
         "type": "unknown"
        },
        {
         "name": "permit",
         "rawType": "object",
         "type": "unknown"
        },
        {
         "name": "construction_year",
         "rawType": "int64",
         "type": "integer"
        },
        {
         "name": "extraction_type",
         "rawType": "object",
         "type": "string"
        },
        {
         "name": "extraction_type_group",
         "rawType": "object",
         "type": "string"
        },
        {
         "name": "extraction_type_class",
         "rawType": "object",
         "type": "string"
        },
        {
         "name": "management",
         "rawType": "object",
         "type": "string"
        },
        {
         "name": "management_group",
         "rawType": "object",
         "type": "string"
        },
        {
         "name": "payment",
         "rawType": "object",
         "type": "string"
        },
        {
         "name": "payment_type",
         "rawType": "object",
         "type": "string"
        },
        {
         "name": "water_quality",
         "rawType": "object",
         "type": "string"
        },
        {
         "name": "quality_group",
         "rawType": "object",
         "type": "string"
        },
        {
         "name": "quantity",
         "rawType": "object",
         "type": "string"
        },
        {
         "name": "quantity_group",
         "rawType": "object",
         "type": "string"
        },
        {
         "name": "source",
         "rawType": "object",
         "type": "string"
        },
        {
         "name": "source_type",
         "rawType": "object",
         "type": "string"
        },
        {
         "name": "source_class",
         "rawType": "object",
         "type": "string"
        },
        {
         "name": "waterpoint_type",
         "rawType": "object",
         "type": "string"
        },
        {
         "name": "waterpoint_type_group",
         "rawType": "object",
         "type": "string"
        }
       ],
       "ref": "bdcf326d-3487-420a-94f5-df3c1cd2c62c",
       "rows": [
        [
         "0",
         "69572",
         "6000.0",
         "2011-03-14",
         "Roman",
         "1390",
         "Roman",
         "34.93809275",
         "-9.85632177",
         "none",
         "0",
         "Lake Nyasa",
         "Mnyusi B",
         "Iringa",
         "11",
         "5",
         "Ludewa",
         "Mundindi",
         "109",
         "True",
         "GeoData Consultants Ltd",
         "VWC",
         "Roman",
         "False",
         "1999",
         "gravity",
         "gravity",
         "gravity",
         "vwc",
         "user-group",
         "pay annually",
         "annually",
         "soft",
         "good",
         "enough",
         "enough",
         "spring",
         "spring",
         "groundwater",
         "communal standpipe",
         "communal standpipe"
        ],
        [
         "1",
         "8776",
         "0.0",
         "2013-03-06",
         "Grumeti",
         "1399",
         "GRUMETI",
         "34.6987661",
         "-2.14746569",
         "Zahanati",
         "0",
         "Lake Victoria",
         "Nyamara",
         "Mara",
         "20",
         "2",
         "Serengeti",
         "Natta",
         "280",
         null,
         "GeoData Consultants Ltd",
         "Other",
         null,
         "True",
         "2010",
         "gravity",
         "gravity",
         "gravity",
         "wug",
         "user-group",
         "never pay",
         "never pay",
         "soft",
         "good",
         "insufficient",
         "insufficient",
         "rainwater harvesting",
         "rainwater harvesting",
         "surface",
         "communal standpipe",
         "communal standpipe"
        ],
        [
         "2",
         "34310",
         "25.0",
         "2013-02-25",
         "Lottery Club",
         "686",
         "World vision",
         "37.46066446",
         "-3.82132853",
         "Kwa Mahundi",
         "0",
         "Pangani",
         "Majengo",
         "Manyara",
         "21",
         "4",
         "Simanjiro",
         "Ngorika",
         "250",
         "True",
         "GeoData Consultants Ltd",
         "VWC",
         "Nyumba ya mungu pipe scheme",
         "True",
         "2009",
         "gravity",
         "gravity",
         "gravity",
         "vwc",
         "user-group",
         "pay per bucket",
         "per bucket",
         "soft",
         "good",
         "enough",
         "enough",
         "dam",
         "dam",
         "surface",
         "communal standpipe multiple",
         "communal standpipe"
        ],
        [
         "3",
         "67743",
         "0.0",
         "2013-01-28",
         "Unicef",
         "263",
         "UNICEF",
         "38.48616088",
         "-11.15529772",
         "Zahanati Ya Nanyumbu",
         "0",
         "Ruvuma / Southern Coast",
         "Mahakamani",
         "Mtwara",
         "90",
         "63",
         "Nanyumbu",
         "Nanyumbu",
         "58",
         "True",
         "GeoData Consultants Ltd",
         "VWC",
         null,
         "True",
         "1986",
         "submersible",
         "submersible",
         "submersible",
         "vwc",
         "user-group",
         "never pay",
         "never pay",
         "soft",
         "good",
         "dry",
         "dry",
         "machine dbh",
         "borehole",
         "groundwater",
         "communal standpipe multiple",
         "communal standpipe"
        ],
        [
         "4",
         "19728",
         "0.0",
         "2011-07-13",
         "Action In A",
         "0",
         "Artisan",
         "31.13084671",
         "-1.82535885",
         "Shuleni",
         "0",
         "Lake Victoria",
         "Kyanyamisa",
         "Kagera",
         "18",
         "1",
         "Karagwe",
         "Nyakasimbi",
         "0",
         "True",
         "GeoData Consultants Ltd",
         null,
         null,
         "True",
         "0",
         "gravity",
         "gravity",
         "gravity",
         "other",
         "other",
         "never pay",
         "never pay",
         "soft",
         "good",
         "seasonal",
         "seasonal",
         "rainwater harvesting",
         "rainwater harvesting",
         "surface",
         "communal standpipe",
         "communal standpipe"
        ]
       ],
       "shape": {
        "columns": 40,
        "rows": 5
       }
      },
      "text/html": [
       "<div>\n",
       "<style scoped>\n",
       "    .dataframe tbody tr th:only-of-type {\n",
       "        vertical-align: middle;\n",
       "    }\n",
       "\n",
       "    .dataframe tbody tr th {\n",
       "        vertical-align: top;\n",
       "    }\n",
       "\n",
       "    .dataframe thead th {\n",
       "        text-align: right;\n",
       "    }\n",
       "</style>\n",
       "<table border=\"1\" class=\"dataframe\">\n",
       "  <thead>\n",
       "    <tr style=\"text-align: right;\">\n",
       "      <th></th>\n",
       "      <th>id</th>\n",
       "      <th>amount_tsh</th>\n",
       "      <th>date_recorded</th>\n",
       "      <th>funder</th>\n",
       "      <th>gps_height</th>\n",
       "      <th>installer</th>\n",
       "      <th>longitude</th>\n",
       "      <th>latitude</th>\n",
       "      <th>wpt_name</th>\n",
       "      <th>num_private</th>\n",
       "      <th>...</th>\n",
       "      <th>payment_type</th>\n",
       "      <th>water_quality</th>\n",
       "      <th>quality_group</th>\n",
       "      <th>quantity</th>\n",
       "      <th>quantity_group</th>\n",
       "      <th>source</th>\n",
       "      <th>source_type</th>\n",
       "      <th>source_class</th>\n",
       "      <th>waterpoint_type</th>\n",
       "      <th>waterpoint_type_group</th>\n",
       "    </tr>\n",
       "  </thead>\n",
       "  <tbody>\n",
       "    <tr>\n",
       "      <th>0</th>\n",
       "      <td>69572</td>\n",
       "      <td>6000.0</td>\n",
       "      <td>2011-03-14</td>\n",
       "      <td>Roman</td>\n",
       "      <td>1390</td>\n",
       "      <td>Roman</td>\n",
       "      <td>34.938093</td>\n",
       "      <td>-9.856322</td>\n",
       "      <td>none</td>\n",
       "      <td>0</td>\n",
       "      <td>...</td>\n",
       "      <td>annually</td>\n",
       "      <td>soft</td>\n",
       "      <td>good</td>\n",
       "      <td>enough</td>\n",
       "      <td>enough</td>\n",
       "      <td>spring</td>\n",
       "      <td>spring</td>\n",
       "      <td>groundwater</td>\n",
       "      <td>communal standpipe</td>\n",
       "      <td>communal standpipe</td>\n",
       "    </tr>\n",
       "    <tr>\n",
       "      <th>1</th>\n",
       "      <td>8776</td>\n",
       "      <td>0.0</td>\n",
       "      <td>2013-03-06</td>\n",
       "      <td>Grumeti</td>\n",
       "      <td>1399</td>\n",
       "      <td>GRUMETI</td>\n",
       "      <td>34.698766</td>\n",
       "      <td>-2.147466</td>\n",
       "      <td>Zahanati</td>\n",
       "      <td>0</td>\n",
       "      <td>...</td>\n",
       "      <td>never pay</td>\n",
       "      <td>soft</td>\n",
       "      <td>good</td>\n",
       "      <td>insufficient</td>\n",
       "      <td>insufficient</td>\n",
       "      <td>rainwater harvesting</td>\n",
       "      <td>rainwater harvesting</td>\n",
       "      <td>surface</td>\n",
       "      <td>communal standpipe</td>\n",
       "      <td>communal standpipe</td>\n",
       "    </tr>\n",
       "    <tr>\n",
       "      <th>2</th>\n",
       "      <td>34310</td>\n",
       "      <td>25.0</td>\n",
       "      <td>2013-02-25</td>\n",
       "      <td>Lottery Club</td>\n",
       "      <td>686</td>\n",
       "      <td>World vision</td>\n",
       "      <td>37.460664</td>\n",
       "      <td>-3.821329</td>\n",
       "      <td>Kwa Mahundi</td>\n",
       "      <td>0</td>\n",
       "      <td>...</td>\n",
       "      <td>per bucket</td>\n",
       "      <td>soft</td>\n",
       "      <td>good</td>\n",
       "      <td>enough</td>\n",
       "      <td>enough</td>\n",
       "      <td>dam</td>\n",
       "      <td>dam</td>\n",
       "      <td>surface</td>\n",
       "      <td>communal standpipe multiple</td>\n",
       "      <td>communal standpipe</td>\n",
       "    </tr>\n",
       "    <tr>\n",
       "      <th>3</th>\n",
       "      <td>67743</td>\n",
       "      <td>0.0</td>\n",
       "      <td>2013-01-28</td>\n",
       "      <td>Unicef</td>\n",
       "      <td>263</td>\n",
       "      <td>UNICEF</td>\n",
       "      <td>38.486161</td>\n",
       "      <td>-11.155298</td>\n",
       "      <td>Zahanati Ya Nanyumbu</td>\n",
       "      <td>0</td>\n",
       "      <td>...</td>\n",
       "      <td>never pay</td>\n",
       "      <td>soft</td>\n",
       "      <td>good</td>\n",
       "      <td>dry</td>\n",
       "      <td>dry</td>\n",
       "      <td>machine dbh</td>\n",
       "      <td>borehole</td>\n",
       "      <td>groundwater</td>\n",
       "      <td>communal standpipe multiple</td>\n",
       "      <td>communal standpipe</td>\n",
       "    </tr>\n",
       "    <tr>\n",
       "      <th>4</th>\n",
       "      <td>19728</td>\n",
       "      <td>0.0</td>\n",
       "      <td>2011-07-13</td>\n",
       "      <td>Action In A</td>\n",
       "      <td>0</td>\n",
       "      <td>Artisan</td>\n",
       "      <td>31.130847</td>\n",
       "      <td>-1.825359</td>\n",
       "      <td>Shuleni</td>\n",
       "      <td>0</td>\n",
       "      <td>...</td>\n",
       "      <td>never pay</td>\n",
       "      <td>soft</td>\n",
       "      <td>good</td>\n",
       "      <td>seasonal</td>\n",
       "      <td>seasonal</td>\n",
       "      <td>rainwater harvesting</td>\n",
       "      <td>rainwater harvesting</td>\n",
       "      <td>surface</td>\n",
       "      <td>communal standpipe</td>\n",
       "      <td>communal standpipe</td>\n",
       "    </tr>\n",
       "  </tbody>\n",
       "</table>\n",
       "<p>5 rows × 40 columns</p>\n",
       "</div>"
      ],
      "text/plain": [
       "      id  amount_tsh date_recorded        funder  gps_height     installer  \\\n",
       "0  69572      6000.0    2011-03-14         Roman        1390         Roman   \n",
       "1   8776         0.0    2013-03-06       Grumeti        1399       GRUMETI   \n",
       "2  34310        25.0    2013-02-25  Lottery Club         686  World vision   \n",
       "3  67743         0.0    2013-01-28        Unicef         263        UNICEF   \n",
       "4  19728         0.0    2011-07-13   Action In A           0       Artisan   \n",
       "\n",
       "   longitude   latitude              wpt_name  num_private  ... payment_type  \\\n",
       "0  34.938093  -9.856322                  none            0  ...     annually   \n",
       "1  34.698766  -2.147466              Zahanati            0  ...    never pay   \n",
       "2  37.460664  -3.821329           Kwa Mahundi            0  ...   per bucket   \n",
       "3  38.486161 -11.155298  Zahanati Ya Nanyumbu            0  ...    never pay   \n",
       "4  31.130847  -1.825359               Shuleni            0  ...    never pay   \n",
       "\n",
       "  water_quality quality_group      quantity  quantity_group  \\\n",
       "0          soft          good        enough          enough   \n",
       "1          soft          good  insufficient    insufficient   \n",
       "2          soft          good        enough          enough   \n",
       "3          soft          good           dry             dry   \n",
       "4          soft          good      seasonal        seasonal   \n",
       "\n",
       "                 source           source_type  source_class  \\\n",
       "0                spring                spring   groundwater   \n",
       "1  rainwater harvesting  rainwater harvesting       surface   \n",
       "2                   dam                   dam       surface   \n",
       "3           machine dbh              borehole   groundwater   \n",
       "4  rainwater harvesting  rainwater harvesting       surface   \n",
       "\n",
       "               waterpoint_type waterpoint_type_group  \n",
       "0           communal standpipe    communal standpipe  \n",
       "1           communal standpipe    communal standpipe  \n",
       "2  communal standpipe multiple    communal standpipe  \n",
       "3  communal standpipe multiple    communal standpipe  \n",
       "4           communal standpipe    communal standpipe  \n",
       "\n",
       "[5 rows x 40 columns]"
      ]
     },
     "execution_count": 13,
     "metadata": {},
     "output_type": "execute_result"
    }
   ],
   "source": [
    "#check data frame\n",
    "Train_set_vals.head()"
   ]
  },
  {
   "cell_type": "code",
   "execution_count": 14,
   "id": "42db107e",
   "metadata": {},
   "outputs": [
    {
     "data": {
      "text/plain": [
       "0"
      ]
     },
     "execution_count": 14,
     "metadata": {},
     "output_type": "execute_result"
    }
   ],
   "source": [
    "#check for duplicates\n",
    "Train_set_vals.duplicated().sum()"
   ]
  },
  {
   "cell_type": "code",
   "execution_count": 15,
   "id": "d9aadf18",
   "metadata": {},
   "outputs": [
    {
     "data": {
      "application/vnd.microsoft.datawrangler.viewer.v0+json": {
       "columns": [
        {
         "name": "index",
         "rawType": "object",
         "type": "string"
        },
        {
         "name": "0",
         "rawType": "int64",
         "type": "integer"
        }
       ],
       "ref": "a950459b-ddaf-45aa-8053-8f401b0ef715",
       "rows": [
        [
         "id",
         "0"
        ],
        [
         "amount_tsh",
         "0"
        ],
        [
         "date_recorded",
         "0"
        ],
        [
         "funder",
         "3637"
        ],
        [
         "gps_height",
         "0"
        ],
        [
         "installer",
         "3655"
        ],
        [
         "longitude",
         "0"
        ],
        [
         "latitude",
         "0"
        ],
        [
         "wpt_name",
         "2"
        ],
        [
         "num_private",
         "0"
        ],
        [
         "basin",
         "0"
        ],
        [
         "subvillage",
         "371"
        ],
        [
         "region",
         "0"
        ],
        [
         "region_code",
         "0"
        ],
        [
         "district_code",
         "0"
        ],
        [
         "lga",
         "0"
        ],
        [
         "ward",
         "0"
        ],
        [
         "population",
         "0"
        ],
        [
         "public_meeting",
         "3334"
        ],
        [
         "recorded_by",
         "0"
        ],
        [
         "scheme_management",
         "3878"
        ],
        [
         "scheme_name",
         "28810"
        ],
        [
         "permit",
         "3056"
        ],
        [
         "construction_year",
         "0"
        ],
        [
         "extraction_type",
         "0"
        ],
        [
         "extraction_type_group",
         "0"
        ],
        [
         "extraction_type_class",
         "0"
        ],
        [
         "management",
         "0"
        ],
        [
         "management_group",
         "0"
        ],
        [
         "payment",
         "0"
        ],
        [
         "payment_type",
         "0"
        ],
        [
         "water_quality",
         "0"
        ],
        [
         "quality_group",
         "0"
        ],
        [
         "quantity",
         "0"
        ],
        [
         "quantity_group",
         "0"
        ],
        [
         "source",
         "0"
        ],
        [
         "source_type",
         "0"
        ],
        [
         "source_class",
         "0"
        ],
        [
         "waterpoint_type",
         "0"
        ],
        [
         "waterpoint_type_group",
         "0"
        ]
       ],
       "shape": {
        "columns": 1,
        "rows": 40
       }
      },
      "text/plain": [
       "id                           0\n",
       "amount_tsh                   0\n",
       "date_recorded                0\n",
       "funder                    3637\n",
       "gps_height                   0\n",
       "installer                 3655\n",
       "longitude                    0\n",
       "latitude                     0\n",
       "wpt_name                     2\n",
       "num_private                  0\n",
       "basin                        0\n",
       "subvillage                 371\n",
       "region                       0\n",
       "region_code                  0\n",
       "district_code                0\n",
       "lga                          0\n",
       "ward                         0\n",
       "population                   0\n",
       "public_meeting            3334\n",
       "recorded_by                  0\n",
       "scheme_management         3878\n",
       "scheme_name              28810\n",
       "permit                    3056\n",
       "construction_year            0\n",
       "extraction_type              0\n",
       "extraction_type_group        0\n",
       "extraction_type_class        0\n",
       "management                   0\n",
       "management_group             0\n",
       "payment                      0\n",
       "payment_type                 0\n",
       "water_quality                0\n",
       "quality_group                0\n",
       "quantity                     0\n",
       "quantity_group               0\n",
       "source                       0\n",
       "source_type                  0\n",
       "source_class                 0\n",
       "waterpoint_type              0\n",
       "waterpoint_type_group        0\n",
       "dtype: int64"
      ]
     },
     "execution_count": 15,
     "metadata": {},
     "output_type": "execute_result"
    }
   ],
   "source": [
    "#check for missing values\n",
    "Train_set_vals.isna().sum()\n"
   ]
  },
  {
   "cell_type": "code",
   "execution_count": 16,
   "id": "d2bf418d",
   "metadata": {},
   "outputs": [],
   "source": [
    "#drop irrelevant columns\n",
    "Train_set_vals.drop(columns=['funder','installer','subvillage', 'public_meeting','scheme_management','scheme_name','permit'],axis=1,inplace=True)"
   ]
  },
  {
   "cell_type": "code",
   "execution_count": 17,
   "id": "582b2e23",
   "metadata": {},
   "outputs": [
    {
     "name": "stdout",
     "output_type": "stream",
     "text": [
      "<class 'pandas.core.frame.DataFrame'>\n",
      "RangeIndex: 59400 entries, 0 to 59399\n",
      "Data columns (total 33 columns):\n",
      " #   Column                 Non-Null Count  Dtype  \n",
      "---  ------                 --------------  -----  \n",
      " 0   id                     59400 non-null  int64  \n",
      " 1   amount_tsh             59400 non-null  float64\n",
      " 2   date_recorded          59400 non-null  object \n",
      " 3   gps_height             59400 non-null  int64  \n",
      " 4   longitude              59400 non-null  float64\n",
      " 5   latitude               59400 non-null  float64\n",
      " 6   wpt_name               59398 non-null  object \n",
      " 7   num_private            59400 non-null  int64  \n",
      " 8   basin                  59400 non-null  object \n",
      " 9   region                 59400 non-null  object \n",
      " 10  region_code            59400 non-null  int64  \n",
      " 11  district_code          59400 non-null  int64  \n",
      " 12  lga                    59400 non-null  object \n",
      " 13  ward                   59400 non-null  object \n",
      " 14  population             59400 non-null  int64  \n",
      " 15  recorded_by            59400 non-null  object \n",
      " 16  construction_year      59400 non-null  int64  \n",
      " 17  extraction_type        59400 non-null  object \n",
      " 18  extraction_type_group  59400 non-null  object \n",
      " 19  extraction_type_class  59400 non-null  object \n",
      " 20  management             59400 non-null  object \n",
      " 21  management_group       59400 non-null  object \n",
      " 22  payment                59400 non-null  object \n",
      " 23  payment_type           59400 non-null  object \n",
      " 24  water_quality          59400 non-null  object \n",
      " 25  quality_group          59400 non-null  object \n",
      " 26  quantity               59400 non-null  object \n",
      " 27  quantity_group         59400 non-null  object \n",
      " 28  source                 59400 non-null  object \n",
      " 29  source_type            59400 non-null  object \n",
      " 30  source_class           59400 non-null  object \n",
      " 31  waterpoint_type        59400 non-null  object \n",
      " 32  waterpoint_type_group  59400 non-null  object \n",
      "dtypes: float64(3), int64(7), object(23)\n",
      "memory usage: 15.0+ MB\n"
     ]
    }
   ],
   "source": [
    "Train_set_vals.info() #7 columns dropped from Data frame"
   ]
  },
  {
   "cell_type": "markdown",
   "id": "aa16605b",
   "metadata": {},
   "source": [
    "# Explatory Data Analysis"
   ]
  },
  {
   "cell_type": "code",
   "execution_count": 18,
   "id": "2cff2caa",
   "metadata": {},
   "outputs": [
    {
     "data": {
      "image/png": "[encoded data removed]",
      "text/plain": [
       "<Figure size 1000x600 with 1 Axes>"
      ]
     },
     "metadata": {},
     "output_type": "display_data"
    }
   ],
   "source": [
    "# Check the Waterpump vs its Functionality\n",
    "# Plot the relationship between waterpump and functionality\n",
    "\n",
    "# Merge Train_set_vals and Train_set_label on 'id' to get status_group for each waterpoint\n",
    "merged_df = Train_set_vals.merge(Train_set_label, on='id')\n",
    "\n",
    "# Plot the count of waterpoints by functionality\n",
    "plt.figure(figsize=(10,6))\n",
    "sns.countplot(data=merged_df, x='status_group')\n",
    "plt.title('Distribution of Waterpoint Functionality')\n",
    "plt.xlabel('Functionality Status')\n",
    "plt.ylabel('Number of Waterpoints')\n",
    "plt.show()\n"
   ]
  },
  {
   "cell_type": "markdown",
   "id": "623c7e3d",
   "metadata": {},
   "source": [
    "### The Number of fuctional water pumps are in the range of 40,000 , Non functional water pumps around 22,000 and functional water pumps that need repair are less that 5,000"
   ]
  },
  {
   "cell_type": "markdown",
   "id": "1c41501b",
   "metadata": {},
   "source": [
    "## Modelling"
   ]
  },
  {
   "cell_type": "markdown",
   "id": "d556bd48",
   "metadata": {},
   "source": [
    "### Creating a Model that predicts Functional waterpumps from Training set values"
   ]
  },
  {
   "cell_type": "code",
   "execution_count": 20,
   "id": "860ba24c",
   "metadata": {},
   "outputs": [],
   "source": [
    "#create a predictive model that predicts functional water pumps\n",
    "\n",
    "# Use already loaded dataframes\n",
    "X = Train_set_vals\n",
    "y = Train_set_label\n",
    "\n",
    "# Merge on 'id'\n",
    "df = X.merge(y, on='id')\n"
   ]
  },
  {
   "cell_type": "code",
   "execution_count": 21,
   "id": "fdd9d074",
   "metadata": {},
   "outputs": [],
   "source": [
    "\n",
    "\n",
    "# Encode categorical variables\n",
    "categorical_cols = df.select_dtypes(include='object').columns\n",
    "\n",
    "le = LabelEncoder()\n",
    "for col in categorical_cols:\n",
    "    df[col] = le.fit_transform(df[col])\n",
    "\n",
    "# Define features and target\n",
    "X = df.drop(['status_group', 'id'], axis=1)\n",
    "y = df['status_group']\n"
   ]
  },
  {
   "cell_type": "code",
   "execution_count": 22,
   "id": "7394feb6",
   "metadata": {},
   "outputs": [],
   "source": [
    "#train/test split\n",
    "\n",
    "X_train, X_test, y_train, y_test = train_test_split(\n",
    "    X, y, test_size=0.2, random_state=42, stratify=y\n",
    ")\n"
   ]
  },
  {
   "cell_type": "code",
   "execution_count": 23,
   "id": "2f4b1fc9",
   "metadata": {},
   "outputs": [
    {
     "data": {
      "text/html": [
       "<style>#sk-container-id-1 {color: black;}#sk-container-id-1 pre{padding: 0;}#sk-container-id-1 div.sk-toggleable {background-color: white;}#sk-container-id-1 label.sk-toggleable__label {cursor: pointer;display: block;width: 100%;margin-bottom: 0;padding: 0.3em;box-sizing: border-box;text-align: center;}#sk-container-id-1 label.sk-toggleable__label-arrow:before {content: \"▸\";float: left;margin-right: 0.25em;color: #696969;}#sk-container-id-1 label.sk-toggleable__label-arrow:hover:before {color: black;}#sk-container-id-1 div.sk-estimator:hover label.sk-toggleable__label-arrow:before {color: black;}#sk-container-id-1 div.sk-toggleable__content {max-height: 0;max-width: 0;overflow: hidden;text-align: left;background-color: #f0f8ff;}#sk-container-id-1 div.sk-toggleable__content pre {margin: 0.2em;color: black;border-radius: 0.25em;background-color: #f0f8ff;}#sk-container-id-1 input.sk-toggleable__control:checked~div.sk-toggleable__content {max-height: 200px;max-width: 100%;overflow: auto;}#sk-container-id-1 input.sk-toggleable__control:checked~label.sk-toggleable__label-arrow:before {content: \"▾\";}#sk-container-id-1 div.sk-estimator input.sk-toggleable__control:checked~label.sk-toggleable__label {background-color: #d4ebff;}#sk-container-id-1 div.sk-label input.sk-toggleable__control:checked~label.sk-toggleable__label {background-color: #d4ebff;}#sk-container-id-1 input.sk-hidden--visually {border: 0;clip: rect(1px 1px 1px 1px);clip: rect(1px, 1px, 1px, 1px);height: 1px;margin: -1px;overflow: hidden;padding: 0;position: absolute;width: 1px;}#sk-container-id-1 div.sk-estimator {font-family: monospace;background-color: #f0f8ff;border: 1px dotted black;border-radius: 0.25em;box-sizing: border-box;margin-bottom: 0.5em;}#sk-container-id-1 div.sk-estimator:hover {background-color: #d4ebff;}#sk-container-id-1 div.sk-parallel-item::after {content: \"\";width: 100%;border-bottom: 1px solid gray;flex-grow: 1;}#sk-container-id-1 div.sk-label:hover label.sk-toggleable__label {background-color: #d4ebff;}#sk-container-id-1 div.sk-serial::before {content: \"\";position: absolute;border-left: 1px solid gray;box-sizing: border-box;top: 0;bottom: 0;left: 50%;z-index: 0;}#sk-container-id-1 div.sk-serial {display: flex;flex-direction: column;align-items: center;background-color: white;padding-right: 0.2em;padding-left: 0.2em;position: relative;}#sk-container-id-1 div.sk-item {position: relative;z-index: 1;}#sk-container-id-1 div.sk-parallel {display: flex;align-items: stretch;justify-content: center;background-color: white;position: relative;}#sk-container-id-1 div.sk-item::before, #sk-container-id-1 div.sk-parallel-item::before {content: \"\";position: absolute;border-left: 1px solid gray;box-sizing: border-box;top: 0;bottom: 0;left: 50%;z-index: -1;}#sk-container-id-1 div.sk-parallel-item {display: flex;flex-direction: column;z-index: 1;position: relative;background-color: white;}#sk-container-id-1 div.sk-parallel-item:first-child::after {align-self: flex-end;width: 50%;}#sk-container-id-1 div.sk-parallel-item:last-child::after {align-self: flex-start;width: 50%;}#sk-container-id-1 div.sk-parallel-item:only-child::after {width: 0;}#sk-container-id-1 div.sk-dashed-wrapped {border: 1px dashed gray;margin: 0 0.4em 0.5em 0.4em;box-sizing: border-box;padding-bottom: 0.4em;background-color: white;}#sk-container-id-1 div.sk-label label {font-family: monospace;font-weight: bold;display: inline-block;line-height: 1.2em;}#sk-container-id-1 div.sk-label-container {text-align: center;}#sk-container-id-1 div.sk-container {/* jupyter's `normalize.less` sets `[hidden] { display: none; }` but bootstrap.min.css set `[hidden] { display: none !important; }` so we also need the `!important` here to be able to override the default hidden behavior on the sphinx rendered scikit-learn.org. See: https://github.com/scikit-learn/scikit-learn/issues/21755 */display: inline-block !important;position: relative;}#sk-container-id-1 div.sk-text-repr-fallback {display: none;}</style><div id=\"sk-container-id-1\" class=\"sk-top-container\"><div class=\"sk-text-repr-fallback\"><pre>RandomForestClassifier(random_state=42)</pre><b>In a Jupyter environment, please rerun this cell to show the HTML representation or trust the notebook. <br />On GitHub, the HTML representation is unable to render, please try loading this page with nbviewer.org.</b></div><div class=\"sk-container\" hidden><div class=\"sk-item\"><div class=\"sk-estimator sk-toggleable\"><input class=\"sk-toggleable__control sk-hidden--visually\" id=\"sk-estimator-id-1\" type=\"checkbox\" checked><label for=\"sk-estimator-id-1\" class=\"sk-toggleable__label sk-toggleable__label-arrow\">RandomForestClassifier</label><div class=\"sk-toggleable__content\"><pre>RandomForestClassifier(random_state=42)</pre></div></div></div></div></div>"
      ],
      "text/plain": [
       "RandomForestClassifier(random_state=42)"
      ]
     },
     "execution_count": 23,
     "metadata": {},
     "output_type": "execute_result"
    }
   ],
   "source": [
    "# You can use RandomForest, XGBoost, etc.\n",
    "model = RandomForestClassifier(n_estimators=100, random_state=42)\n",
    "model.fit(X_train, y_train)\n"
   ]
  },
  {
   "cell_type": "markdown",
   "id": "4592aa12",
   "metadata": {},
   "source": [
    "## Evaluation"
   ]
  },
  {
   "cell_type": "code",
   "execution_count": 24,
   "id": "9fd8a744",
   "metadata": {},
   "outputs": [
    {
     "name": "stdout",
     "output_type": "stream",
     "text": [
      "Accuracy: 0.8098484848484848\n",
      "[[5760  172  520]\n",
      " [ 437  282  144]\n",
      " [ 919   67 3579]]\n",
      "              precision    recall  f1-score   support\n",
      "\n",
      "           0       0.81      0.89      0.85      6452\n",
      "           1       0.54      0.33      0.41       863\n",
      "           2       0.84      0.78      0.81      4565\n",
      "\n",
      "    accuracy                           0.81     11880\n",
      "   macro avg       0.73      0.67      0.69     11880\n",
      "weighted avg       0.80      0.81      0.80     11880\n",
      "\n"
     ]
    }
   ],
   "source": [
    "\n",
    "from sklearn.metrics import classification_report, confusion_matrix, accuracy_score\n",
    "\n",
    "\n",
    "y_pred = model.predict(X_test)\n",
    "\n",
    "print(\"Accuracy:\", accuracy_score(y_test, y_pred))\n",
    "print(confusion_matrix(y_test, y_pred))\n",
    "print(classification_report(y_test, y_pred))\n"
   ]
  },
  {
   "cell_type": "markdown",
   "id": "645592e2",
   "metadata": {},
   "source": [
    "### Our model using Random Forest classifier has achieved 81% accuracy\n",
    "\n"
   ]
  },
  {
   "cell_type": "markdown",
   "id": "022867f9",
   "metadata": {},
   "source": [
    "| Label | Meaning                 | F1-Score | Comments                                  |\n",
    "| ----- | ----------------------- | -------- | ----------------------------------------- |\n",
    "| 0     | Functional              | 0.85     | High precision & recall                   |\n",
    "| 1     | Functional needs repair | 0.41     | 🚨 Low recall (33%) → often misclassified |\n",
    "| 2     | Non-functional          | 0.81     | Balanced, good performance                |\n"
   ]
  },
  {
   "cell_type": "markdown",
   "id": "f22cd690",
   "metadata": {},
   "source": [
    "### There is class imbalance on Functional water pumps that needs repair category"
   ]
  },
  {
   "cell_type": "code",
   "execution_count": 25,
   "id": "ed31f3e3",
   "metadata": {},
   "outputs": [
    {
     "data": {
      "text/html": [
       "<style>#sk-container-id-2 {color: black;}#sk-container-id-2 pre{padding: 0;}#sk-container-id-2 div.sk-toggleable {background-color: white;}#sk-container-id-2 label.sk-toggleable__label {cursor: pointer;display: block;width: 100%;margin-bottom: 0;padding: 0.3em;box-sizing: border-box;text-align: center;}#sk-container-id-2 label.sk-toggleable__label-arrow:before {content: \"▸\";float: left;margin-right: 0.25em;color: #696969;}#sk-container-id-2 label.sk-toggleable__label-arrow:hover:before {color: black;}#sk-container-id-2 div.sk-estimator:hover label.sk-toggleable__label-arrow:before {color: black;}#sk-container-id-2 div.sk-toggleable__content {max-height: 0;max-width: 0;overflow: hidden;text-align: left;background-color: #f0f8ff;}#sk-container-id-2 div.sk-toggleable__content pre {margin: 0.2em;color: black;border-radius: 0.25em;background-color: #f0f8ff;}#sk-container-id-2 input.sk-toggleable__control:checked~div.sk-toggleable__content {max-height: 200px;max-width: 100%;overflow: auto;}#sk-container-id-2 input.sk-toggleable__control:checked~label.sk-toggleable__label-arrow:before {content: \"▾\";}#sk-container-id-2 div.sk-estimator input.sk-toggleable__control:checked~label.sk-toggleable__label {background-color: #d4ebff;}#sk-container-id-2 div.sk-label input.sk-toggleable__control:checked~label.sk-toggleable__label {background-color: #d4ebff;}#sk-container-id-2 input.sk-hidden--visually {border: 0;clip: rect(1px 1px 1px 1px);clip: rect(1px, 1px, 1px, 1px);height: 1px;margin: -1px;overflow: hidden;padding: 0;position: absolute;width: 1px;}#sk-container-id-2 div.sk-estimator {font-family: monospace;background-color: #f0f8ff;border: 1px dotted black;border-radius: 0.25em;box-sizing: border-box;margin-bottom: 0.5em;}#sk-container-id-2 div.sk-estimator:hover {background-color: #d4ebff;}#sk-container-id-2 div.sk-parallel-item::after {content: \"\";width: 100%;border-bottom: 1px solid gray;flex-grow: 1;}#sk-container-id-2 div.sk-label:hover label.sk-toggleable__label {background-color: #d4ebff;}#sk-container-id-2 div.sk-serial::before {content: \"\";position: absolute;border-left: 1px solid gray;box-sizing: border-box;top: 0;bottom: 0;left: 50%;z-index: 0;}#sk-container-id-2 div.sk-serial {display: flex;flex-direction: column;align-items: center;background-color: white;padding-right: 0.2em;padding-left: 0.2em;position: relative;}#sk-container-id-2 div.sk-item {position: relative;z-index: 1;}#sk-container-id-2 div.sk-parallel {display: flex;align-items: stretch;justify-content: center;background-color: white;position: relative;}#sk-container-id-2 div.sk-item::before, #sk-container-id-2 div.sk-parallel-item::before {content: \"\";position: absolute;border-left: 1px solid gray;box-sizing: border-box;top: 0;bottom: 0;left: 50%;z-index: -1;}#sk-container-id-2 div.sk-parallel-item {display: flex;flex-direction: column;z-index: 1;position: relative;background-color: white;}#sk-container-id-2 div.sk-parallel-item:first-child::after {align-self: flex-end;width: 50%;}#sk-container-id-2 div.sk-parallel-item:last-child::after {align-self: flex-start;width: 50%;}#sk-container-id-2 div.sk-parallel-item:only-child::after {width: 0;}#sk-container-id-2 div.sk-dashed-wrapped {border: 1px dashed gray;margin: 0 0.4em 0.5em 0.4em;box-sizing: border-box;padding-bottom: 0.4em;background-color: white;}#sk-container-id-2 div.sk-label label {font-family: monospace;font-weight: bold;display: inline-block;line-height: 1.2em;}#sk-container-id-2 div.sk-label-container {text-align: center;}#sk-container-id-2 div.sk-container {/* jupyter's `normalize.less` sets `[hidden] { display: none; }` but bootstrap.min.css set `[hidden] { display: none !important; }` so we also need the `!important` here to be able to override the default hidden behavior on the sphinx rendered scikit-learn.org. See: https://github.com/scikit-learn/scikit-learn/issues/21755 */display: inline-block !important;position: relative;}#sk-container-id-2 div.sk-text-repr-fallback {display: none;}</style><div id=\"sk-container-id-2\" class=\"sk-top-container\"><div class=\"sk-text-repr-fallback\"><pre>RandomForestClassifier(random_state=42)</pre><b>In a Jupyter environment, please rerun this cell to show the HTML representation or trust the notebook. <br />On GitHub, the HTML representation is unable to render, please try loading this page with nbviewer.org.</b></div><div class=\"sk-container\" hidden><div class=\"sk-item\"><div class=\"sk-estimator sk-toggleable\"><input class=\"sk-toggleable__control sk-hidden--visually\" id=\"sk-estimator-id-2\" type=\"checkbox\" checked><label for=\"sk-estimator-id-2\" class=\"sk-toggleable__label sk-toggleable__label-arrow\">RandomForestClassifier</label><div class=\"sk-toggleable__content\"><pre>RandomForestClassifier(random_state=42)</pre></div></div></div></div></div>"
      ],
      "text/plain": [
       "RandomForestClassifier(random_state=42)"
      ]
     },
     "execution_count": 25,
     "metadata": {},
     "output_type": "execute_result"
    }
   ],
   "source": [
    "#Handling class imbalance\n",
    "\n",
    "from imblearn.over_sampling import SMOTE\n",
    "\n",
    "sm = SMOTE(random_state=42)\n",
    "X_res, y_res = sm.fit_resample(X_train, y_train)\n",
    "model.fit(X_res, y_res)\n",
    "\n",
    "#print\n",
    "\n"
   ]
  },
  {
   "cell_type": "markdown",
   "id": "f612c7b5",
   "metadata": {},
   "source": [
    "## **Conclusion**"
   ]
  },
  {
   "cell_type": "markdown",
   "id": "0febb72d",
   "metadata": {},
   "source": [
    "\n",
    "\n",
    "## **Business Conclusions from the Model**\n",
    "\n",
    "### 1. **Overall Performance**\n",
    "\n",
    "* The model can predict **functional status** of water pumps with \\~81% accuracy.\n",
    "* It performs **very well for predicting functional and non-functional pumps**.\n",
    "* It struggles with identifying pumps that are **“functional but need repair”**, which are often hard to distinguish even for humans.\n",
    "\n",
    "### 2. **Current Water System Health**\n",
    "\n",
    "* From the test predictions or dataset distribution, you likely observed that a **significant portion of pumps are either non-functional or require maintenance**.\n",
    "* The model reveals patterns in pump failure based on metadata like age, location, water quality, pump type, etc.\n",
    "\n",
    "### 3. **Key Risk Indicators**\n",
    "\n",
    "* Certain features (e.g., **construction year**, **pump installer**, **region**, **management type**) are strong predictors of failure.\n",
    "* Older pumps, poorly managed pumps, or those with unknown installers are more likely to fail.\n",
    "\n",
    "---\n",
    "\n",
    "## **Business Recommendations**\n",
    "\n",
    "### 1. **Proactive Maintenance Program**\n",
    "\n",
    "* Use the model predictions to **prioritize maintenance teams** to visit pumps that are likely to fail or are in \"needs repair\" condition.\n",
    "* This can **prevent breakdowns before they occur**, saving cost and reducing downtime.\n",
    "\n",
    "### 2. **Targeted Investment**\n",
    "\n",
    "* Allocate **repair budgets more efficiently** to regions or pump types where the model shows higher failure probabilities.\n",
    "* For example, if hand pumps installed before 2000 in Region X have a high failure rate, prioritize upgrades there.\n",
    "\n",
    "### 3. **Standardize and Monitor Installation**\n",
    "\n",
    "* Enforce **minimum standards for installation** (e.g., only certified installers) since installation method significantly affects pump longevity.\n",
    "* Create **digital records** of new pump installations to track performance over time.\n",
    "\n",
    "### 4. **Improve Data Collection**\n",
    "\n",
    "* The model's weakness in predicting the \"needs repair\" class suggests a **data quality gap**.\n",
    "* Train field teams to better categorize pump status during inspections.\n",
    "* Consider using **sensors or mobile reporting tools** to collect real-time functionality data.\n",
    "\n",
    "### 5. **Community Engagement**\n",
    "\n",
    "* Engage local communities in pump monitoring.\n",
    "* If the model identifies certain management schemes (e.g., community-managed pumps) as more effective, promote and fund those.\n",
    "\n",
    "### 6. **Performance Dashboard**\n",
    "\n",
    "* Build a **GIS-based dashboard** that visualizes model predictions by location.\n",
    "* Stakeholders (government, NGOs, donors) can use this to make **data-driven decisions** on water access improvement.\n",
    "\n",
    "---\n",
    "\n",
    "## 📈 Metrics for Ongoing Monitoring\n",
    "\n",
    "* % of predicted \"needs repair\" pumps that actually fail within 3 months (model validation in the field).\n",
    "* Reduction in pump downtime across districts using predictive maintenance vs. reactive repairs.\n",
    "* Change in operational cost per functioning pump after model integration.\n",
    "\n",
    "---\n",
    "\n",
    "\n"
   ]
  }
 ],
 "metadata": {
  "kernelspec": {
   "display_name": "learn-env",
   "language": "python",
   "name": "python3"
  },
  "language_info": {
   "codemirror_mode": {
    "name": "ipython",
    "version": 3
   },
   "file_extension": ".py",
   "mimetype": "text/x-python",
   "name": "python",
   "nbconvert_exporter": "python",
   "pygments_lexer": "ipython3",
   "version": "3.8.20"
  }
 },
 "nbformat": 4,
 "nbformat_minor": 5
}
